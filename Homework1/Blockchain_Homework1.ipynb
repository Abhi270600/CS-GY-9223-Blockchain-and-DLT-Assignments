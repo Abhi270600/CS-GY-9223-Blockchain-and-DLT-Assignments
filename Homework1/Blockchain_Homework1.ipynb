{
  "nbformat": 4,
  "nbformat_minor": 0,
  "metadata": {
    "colab": {
      "provenance": []
    },
    "kernelspec": {
      "name": "python3",
      "display_name": "Python 3"
    },
    "language_info": {
      "name": "python"
    }
  },
  "cells": [
    {
      "cell_type": "code",
      "execution_count": 1,
      "metadata": {
        "id": "MQShd09XYr6O"
      },
      "outputs": [],
      "source": [
        "from cryptography.hazmat.primitives.ciphers import Cipher, algorithms, modes\n",
        "from cryptography.hazmat.primitives.asymmetric import rsa, padding\n",
        "from cryptography.hazmat.primitives import serialization, hashes\n",
        "import os"
      ]
    },
    {
      "cell_type": "markdown",
      "source": [
        "**Symmetric encryption (AES-CTR mode)**\n",
        "\n",
        "The code below shows the working of symmetric encryption using the **AES-256** algorithm in **CTR (Counter)** mode.\n",
        "\n",
        "In Symmetric encryption, we use the **same key** is used for both encryption and decryption.\n",
        "\n",
        "Here, we are using a 256-bit key and a 128-bit IV (nonce) that are randomly generated. We have a plaintext that is encrypted into ciphertext and then decrypted back to the original message.\n",
        "\n",
        "We are using the CTR mode because it is a stream cipher mode and can handle data of any length without the need for any padding. This makes it efficient for encrypting large amounts of data or text very quickly.\n",
        "\n"
      ],
      "metadata": {
        "id": "73qHR65IY6kp"
      }
    },
    {
      "cell_type": "code",
      "source": [
        "import os\n",
        "from cryptography.hazmat.primitives.ciphers import Cipher, algorithms, modes\n",
        "\n",
        "def generate_key_iv():\n",
        "    # Generate a random key and initialization vector (IV) or nounce (for CTR mode)\n",
        "    key = os.urandom(32)  # 256-bit key for AES-256\n",
        "    iv = os.urandom(16)   # 128-bit IV (nounce in CTR mode)\n",
        "    return key, iv\n",
        "\n",
        "def encrypt(key, iv, plaintext):\n",
        "    # We are using AES-256 in CBC mode for encryption\n",
        "    cipher = Cipher(algorithms.AES(key), modes.CTR(iv))\n",
        "    encryptor = cipher.encryptor()\n",
        "    ciphertext = encryptor.update(plaintext) + encryptor.finalize()\n",
        "    return ciphertext\n",
        "\n",
        "def decrypt(key, iv, ciphertext):\n",
        "    # Decrypting the ciphertext using AES-256 in CBC mode\n",
        "    cipher = Cipher(algorithms.AES(key), modes.CTR(iv))\n",
        "    decryptor = cipher.decryptor()\n",
        "    decrypted_message = decryptor.update(ciphertext) + decryptor.finalize()\n",
        "    return decrypted_message\n",
        "\n",
        "def main():\n",
        "    # Generate key and IV\n",
        "    key, iv = generate_key_iv()\n",
        "\n",
        "    # Lets define the following message for encryption\n",
        "    plaintext = b\"Hello, this is Blockchain homework 1!\"\n",
        "\n",
        "    # Encrypt the message\n",
        "    ciphertext = encrypt(key, iv, plaintext)\n",
        "\n",
        "    # Decrypt the message\n",
        "    decrypted_text = decrypt(key, iv, ciphertext)\n",
        "\n",
        "    # Print results\n",
        "    print(f\"Key: {key.hex()}\\n\")\n",
        "    print(f\"IV (nounce): {iv.hex()}\\n\")\n",
        "    print(f\"Original Text: {plaintext.decode()}\\n\")\n",
        "    print(f\"Encrypted Text: {ciphertext.hex()}\\n\")\n",
        "    print(f\"Decrypted Text: {decrypted_text.decode()}\")\n",
        "\n",
        "if __name__ == \"__main__\":\n",
        "    main()"
      ],
      "metadata": {
        "colab": {
          "base_uri": "https://localhost:8080/"
        },
        "id": "v3SFaIF7YzG4",
        "outputId": "7983c5ce-fe58-42c1-e6dd-49c5e1aacc01"
      },
      "execution_count": 2,
      "outputs": [
        {
          "output_type": "stream",
          "name": "stdout",
          "text": [
            "Key: e141c7380fdb1e166da44c3a88a44858a9171713c2fd318791008b31e3d61079\n",
            "\n",
            "IV (nounce): b17525a6ba1cde0724b53ce17eda6968\n",
            "\n",
            "Original Text: Hello, this is Blockchain homework 1!\n",
            "\n",
            "Encrypted Text: fe71f52f8dc731ae890cc3dabb5dd3b0d3ede09498fe43dd10d507e4cd1308ca787432b7b6\n",
            "\n",
            "Decrypted Text: Hello, this is Blockchain homework 1!\n"
          ]
        }
      ]
    },
    {
      "cell_type": "markdown",
      "source": [
        "**Asymmetric encryption (RSA)**\n",
        "\n",
        "This code shows the working of asymmetric encryption using the **RSA** algorithm.\n",
        "\n",
        "Unlike Symmetric encryption, Asymmetric encryption uses **key pairs**: a **public key** for encryption and a **private key** for decryption.\n",
        "\n",
        "Here we are generating the RSA key pair with a 2048-bit key size, and this encryption uses **OAEP padding** with **SHA-256** for security.\n",
        "\n",
        "The plaintext is encrypted with the public key and decrypted with the private key.\n",
        "\n",
        "The RSA algorithm is computationally heavy, therefore it is mainly used for encrypting small amounts of data, such as symmetric keys, or digital signatures."
      ],
      "metadata": {
        "id": "m2yEj_VYZAq5"
      }
    },
    {
      "cell_type": "code",
      "source": [
        "def generate_key_pair():\n",
        "    # Generate a private and public key pair using rsa algorithm\n",
        "    private_key = rsa.generate_private_key(\n",
        "        public_exponent=65537,\n",
        "        key_size=2048,\n",
        "    )\n",
        "    public_key = private_key.public_key()\n",
        "    return public_key, private_key\n",
        "\n",
        "def serialize_public_key(public_key):\n",
        "    # Serialize the public key to PEM format\n",
        "    pem_public = public_key.public_bytes(\n",
        "        encoding=serialization.Encoding.PEM,\n",
        "        format=serialization.PublicFormat.SubjectPublicKeyInfo\n",
        "    )\n",
        "    return pem_public\n",
        "\n",
        "def encrypt_message(public_key, plaintext):\n",
        "    # We are encrypting the plaintext using the public key we generated\n",
        "    ciphertext = public_key.encrypt(\n",
        "        plaintext,\n",
        "        padding.OAEP(\n",
        "            mgf=padding.MGF1(algorithm=hashes.SHA256()),\n",
        "            algorithm=hashes.SHA256(),\n",
        "            label=None\n",
        "        )\n",
        "    )\n",
        "    return ciphertext\n",
        "\n",
        "def decrypt_message(private_key, ciphertext):\n",
        "    # Decrypt the ciphertext using the private key\n",
        "    decrypted_text = private_key.decrypt(\n",
        "        ciphertext,\n",
        "        padding.OAEP(\n",
        "            mgf=padding.MGF1(algorithm=hashes.SHA256()),\n",
        "            algorithm=hashes.SHA256(),\n",
        "            label=None\n",
        "        )\n",
        "    )\n",
        "    return decrypted_text\n",
        "\n",
        "def main():\n",
        "    # Generate public & private key pair\n",
        "    public_key, private_key = generate_key_pair()\n",
        "\n",
        "    # Serialize the public key to view in PEM format\n",
        "    pem_public = serialize_public_key(public_key)\n",
        "\n",
        "    # Define the plaintext message\n",
        "    plaintext = b\"Hello, this is Blockchain homework 1!\"\n",
        "\n",
        "    # Encrypt the message\n",
        "    ciphertext = encrypt_message(public_key, plaintext)\n",
        "\n",
        "    # Decrypt the message\n",
        "    decrypted_text = decrypt_message(private_key, ciphertext)\n",
        "\n",
        "    # Print results\n",
        "    print(f\"Public Key (PEM):\\n{pem_public.decode()}\\n\")\n",
        "    print(f\"Original Text: {plaintext.decode()}\\n\")\n",
        "    print(f\"Encrypted Text: {ciphertext.hex()}\\n\")\n",
        "    print(f\"Decrypted Text: {decrypted_text.decode()}\")\n",
        "\n",
        "if __name__ == \"__main__\":\n",
        "    main()"
      ],
      "metadata": {
        "colab": {
          "base_uri": "https://localhost:8080/"
        },
        "id": "i04xzcrUY-tm",
        "outputId": "ea723b96-b89d-4615-dcd9-ee6ba2cf1e39"
      },
      "execution_count": 3,
      "outputs": [
        {
          "output_type": "stream",
          "name": "stdout",
          "text": [
            "Public Key (PEM):\n",
            "-----BEGIN PUBLIC KEY-----\n",
            "MIIBIjANBgkqhkiG9w0BAQEFAAOCAQ8AMIIBCgKCAQEAiV6c8lFVMxwO08WL/Crs\n",
            "M+kmSLiLvLwn6C4YvylFqQmXxGmuvCuMWr/rYZp3/QKFFzQJQTaVzyTwwaoLqEsj\n",
            "FxNDM0JWdc7c6UdvuPqMD4UFwLZson2jpl+qSVg54ZqHYlHEXuPf/TNAYaGFRHfC\n",
            "9MZZIn7ydRXzmJEql8+mj3dYLcn3+evQ8O2IEj6FlYRAK/QGgf4l7RpQTVA/jION\n",
            "mbbklcbq6kg14Ds/LfuZ7ooaii9RvHDjunzYnoQ6k15D8kPzunkWp/K6bTnv2AUt\n",
            "et9S8pLiawOTPbSic9ZH8A94q4vOq426Dox9TV4GOJa0ei4iSD+8leDbGtDtEBDk\n",
            "xQIDAQAB\n",
            "-----END PUBLIC KEY-----\n",
            "\n",
            "\n",
            "Original Text: Hello, this is Blockchain homework 1!\n",
            "\n",
            "Encrypted Text: 50ea7006bda62234c90bc338f5963dbeeb2c2157d9b6a7c5eb327df838e5fe41be7f07397a4e5fdf6ddeba873e12f6fcea21b48c9d3f90a3ed222b9ec5f9867102f7361c8aecdf33e63d0284e1eba83658c6c521a5fbb387c9e33edcaaaed25325a9238b7a7f64775fb115d8ceffb851e21ba46195e69ba43dc20c3f49879a7edb5eae916eb623f86bffaacfdb03ca270f9fb7dcb4bda67a87a18056995e8e9867fbc4a6c327f6e170654b6cc804e25a81cccf41af5bb875108502c490cc5832dc6ada61d20dd792d1b744ab8246c9cf630c7a1c1eaf8de2113829034851068cda240191fd492a11e1020e573544bda7f5de5b9881cd72ad4c6aa98ba2498371\n",
            "\n",
            "Decrypted Text: Hello, this is Blockchain homework 1!\n"
          ]
        }
      ]
    },
    {
      "cell_type": "code",
      "source": [],
      "metadata": {
        "id": "7G26eR-HZQN6"
      },
      "execution_count": 3,
      "outputs": []
    }
  ]
}